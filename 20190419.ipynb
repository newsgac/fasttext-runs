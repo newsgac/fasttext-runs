{
 "cells": [
  {
   "cell_type": "markdown",
   "metadata": {},
   "source": [
    "# FASTTEXT EXPERIMENTS WITH LARGE DATA SET"
   ]
  },
  {
   "cell_type": "code",
   "execution_count": 4,
   "metadata": {},
   "outputs": [
    {
     "name": "stdout",
     "output_type": "stream",
     "text": [
      "Read 4M words\n",
      "Number of words:  284034\n",
      "Number of labels: 16\n",
      "Progress: 100.0% words/sec/thread: 1040511 lr:  0.000000 loss:  0.442190 ETA:   0h 0m\n"
     ]
    }
   ],
   "source": [
    "fasttext supervised -input link-articles-20190417-fasttext-train.txt -output model -epoch 100 -dim 100"
   ]
  },
  {
   "cell_type": "code",
   "execution_count": 5,
   "metadata": {},
   "outputs": [
    {
     "name": "stdout",
     "output_type": "stream",
     "text": [
      "  915  64.81  64.81  64.81 \n",
      "  129  44.51  56.59  49.83 __label__ACH\n",
      "   39  28.57  35.90  31.82 __label__COL\n",
      "   18   0.00   0.00   0.00 __label__ESS\n",
      "    9  70.00  77.78  73.68 __label__FIC\n",
      "   32  85.71  37.50  52.17 __label__ING\n",
      "   37  61.90  35.14  44.83 __label__INT\n",
      "   30  66.67  60.00  63.16 __label__LOS\n",
      "   22  84.62  50.00  62.86 __label__MED\n",
      "  345  80.38  85.51  82.87 __label__NIE\n",
      "   32  42.86  56.25  48.65 __label__OPI\n",
      "   14  14.29   7.14   9.52 __label__OVE\n",
      "   11  28.57  18.18  22.22 __label__POR\n",
      "   73  75.76  68.49  71.94 __label__REC\n",
      "   19  26.67  21.05  23.53 __label__REP\n",
      "   77  73.49  79.22  76.25 __label__SER\n",
      "   28  48.28  50.00  49.12 __label__VER\n"
     ]
    }
   ],
   "source": [
    "fasttext predict model.bin link-articles-20190417-fasttext-test.txt |\\\n",
    "   paste -d' ' - link-articles-20190417-fasttext-test.txt |\\\n",
    "   cut -d' ' -f1,2 | sed 's/\\(.*\\) \\(.*\\)/\\2 \\1/' | sed 's/^/x /'|\\\n",
    "   python ../../online-behaviour/machine-learning/eval.py"
   ]
  },
  {
   "cell_type": "markdown",
   "metadata": {},
   "source": [
    "## Collapsing all but target classes\n",
    "\n",
    "Target genre classes: ACH COL INT NIE OPI REC REP VER\n",
    "\n",
    "Other genre classes: ESS FIC ING LOS MED OVE POR SER"
   ]
  },
  {
   "cell_type": "code",
   "execution_count": 8,
   "metadata": {
    "collapsed": true
   },
   "outputs": [],
   "source": [
    "python ../data-processing/collapse-labels.py < link-articles-20190417-fasttext-test.txt > \\\n",
    "                                               link-articles-20190417-fasttext-test-collapsed.txt\n",
    "python ../data-processing/collapse-labels.py < link-articles-20190417-fasttext-train.txt > \\\n",
    "                                               link-articles-20190417-fasttext-train-collapsed.txt"
   ]
  },
  {
   "cell_type": "code",
   "execution_count": 9,
   "metadata": {},
   "outputs": [
    {
     "name": "stdout",
     "output_type": "stream",
     "text": [
      "Read 4M words\n",
      "Number of words:  284034\n",
      "Number of labels: 9\n",
      "Progress: 100.0% words/sec/thread: 1021907 lr:  0.000000 loss:  0.313178 ETA:   0h 0m\n"
     ]
    }
   ],
   "source": [
    "fasttext supervised -input link-articles-20190417-fasttext-train-collapsed.txt -output model-collapsed -epoch 100 -dim 100"
   ]
  },
  {
   "cell_type": "code",
   "execution_count": 10,
   "metadata": {},
   "outputs": [
    {
     "name": "stdout",
     "output_type": "stream",
     "text": [
      "  915  66.12  66.12  66.12 \n",
      "  129  45.45  58.14  51.02 __label__ACH\n",
      "   39  33.33  23.08  27.27 __label__COL\n",
      "   37  77.78  37.84  50.91 __label__INT\n",
      "  345  79.22  82.90  81.02 __label__NIE\n",
      "   32  44.74  53.12  48.57 __label__OPI\n",
      "   73  78.95  61.64  69.23 __label__REC\n",
      "   19  33.33  31.58  32.43 __label__REP\n",
      "  213  67.79  66.20  66.98 __label__SER\n",
      "   28  52.17  42.86  47.06 __label__VER\n"
     ]
    }
   ],
   "source": [
    "fasttext predict model-collapsed.bin link-articles-20190417-fasttext-test-collapsed.txt |\\\n",
    "   paste -d' ' - link-articles-20190417-fasttext-test-collapsed.txt |\\\n",
    "   cut -d' ' -f1,2 | sed 's/\\(.*\\) \\(.*\\)/\\2 \\1/' | sed 's/^/x /'|\\\n",
    "   python ../../online-behaviour/machine-learning/eval.py"
   ]
  },
  {
   "cell_type": "markdown",
   "metadata": {},
   "source": [
    "## Including additional metadata fields\n",
    "\n",
    "Interesting metadata fields: Aard nieuws, Zelfclassificatie, Directe quotes, Onderwerp, Soort Auteur"
   ]
  },
  {
   "cell_type": "code",
   "execution_count": 11,
   "metadata": {},
   "outputs": [
    {
     "name": "stdout",
     "output_type": "stream",
     "text": [
      "Read 4M words\n",
      "Number of words:  284074\n",
      "Number of labels: 18\n",
      "Progress: 100.0% words/sec/thread: 1081173 lr:  0.000000 loss:  0.461047 ETA:   0h 0m\n"
     ]
    }
   ],
   "source": [
    "fasttext supervised -input link-articles-20190419-fasttext-metadata-train.txt -output model -epoch 100 -dim 100"
   ]
  },
  {
   "cell_type": "code",
   "execution_count": 12,
   "metadata": {},
   "outputs": [
    {
     "name": "stdout",
     "output_type": "stream",
     "text": [
      "  915  64.81  64.81  64.81 \n",
      "  129  44.24  56.59  49.66 __label__ACH\n",
      "   39  32.56  35.90  34.15 __label__COL\n",
      "   18   0.00   0.00   0.00 __label__ESS\n",
      "    9  80.00  88.89  84.21 __label__FIC\n",
      "   12  25.00  33.33  28.57 __label__HOO\n",
      "   32  85.71  37.50  52.17 __label__ING\n",
      "   37  56.00  37.84  45.16 __label__INT\n",
      "   30  75.00  60.00  66.67 __label__LOS\n",
      "    7   0.00   0.00   0.00 __label__MED\n",
      "   15  90.00  60.00  72.00 __label__MOP\n",
      "  345  80.65  86.96  83.68 __label__NIE\n",
      "   20  31.58  30.00  30.77 __label__OPI\n",
      "   14  14.29   7.14   9.52 __label__OVE\n",
      "   11  20.00   9.09  12.50 __label__PRO\n",
      "   73  76.47  71.23  73.76 __label__REC\n",
      "   19  27.27  31.58  29.27 __label__REP\n",
      "   77  69.32  79.22  73.94 __label__SER\n",
      "   28  53.85  50.00  51.85 __label__VER\n"
     ]
    }
   ],
   "source": [
    "fasttext predict model.bin link-articles-20190419-fasttext-metadata-test.txt |\\\n",
    "   paste -d' ' - link-articles-20190419-fasttext-metadata-test.txt |\\\n",
    "   cut -d' ' -f1,2 | sed 's/\\(.*\\) \\(.*\\)/\\2 \\1/' | sed 's/^/x /'|\\\n",
    "   python ../../online-behaviour/machine-learning/eval.py"
   ]
  },
  {
   "cell_type": "code",
   "execution_count": 18,
   "metadata": {
    "collapsed": true
   },
   "outputs": [],
   "source": [
    "python ../data-processing/collapse-labels.py -l 9 < link-articles-20190419-fasttext-metadata-test.txt > \\\n",
    "                                                    link-articles-20190419-fasttext-metadata-test-collapsed.txt\n",
    "python ../data-processing/collapse-labels.py -l 9 < link-articles-20190419-fasttext-metadata-train.txt > \\\n",
    "                                                    link-articles-20190419-fasttext-metadata-train-collapsed.txt"
   ]
  },
  {
   "cell_type": "code",
   "execution_count": 19,
   "metadata": {},
   "outputs": [
    {
     "name": "stdout",
     "output_type": "stream",
     "text": [
      "Read 4M words\n",
      "Number of words:  284074\n",
      "Number of labels: 9\n",
      "Progress: 100.0% words/sec/thread: 1013899 lr:  0.000000 loss:  0.314105 ETA:   0h 0m\n"
     ]
    }
   ],
   "source": [
    "fasttext supervised -input link-articles-20190419-fasttext-metadata-train-collapsed.txt -output model -epoch 100 -dim 100"
   ]
  },
  {
   "cell_type": "code",
   "execution_count": 20,
   "metadata": {},
   "outputs": [
    {
     "name": "stdout",
     "output_type": "stream",
     "text": [
      "  915  66.99  66.99  66.99 \n",
      "  129  45.61  60.47  52.00 __label__ACH\n",
      "   39  34.48  25.64  29.41 __label__COL\n",
      "   37  72.22  35.14  47.27 __label__INT\n",
      "  345  80.44  84.64  82.49 __label__NIE\n",
      "   32  40.00  37.50  38.71 __label__OPI\n",
      "   73  76.92  68.49  72.46 __label__REC\n",
      "   19  35.00  36.84  35.90 __label__REP\n",
      "  213  70.98  64.32  67.49 __label__SER\n",
      "   28  53.85  50.00  51.85 __label__VER\n"
     ]
    }
   ],
   "source": [
    "fasttext predict model.bin link-articles-20190419-fasttext-metadata-test-collapsed.txt |\\\n",
    "   paste -d' ' - link-articles-20190419-fasttext-metadata-test-collapsed.txt |\\\n",
    "   cut -d' ' -f1,2 | sed 's/\\(.*\\) \\(.*\\)/\\2 \\1/' | sed 's/^/dummy /'|\\\n",
    "   python ../../online-behaviour/machine-learning/eval.py"
   ]
  },
  {
   "cell_type": "markdown",
   "metadata": {},
   "source": [
    "## Binary labels\n",
    "\n",
    "Opinionated genres: COL OPI REC REP \n",
    "\n",
    "Objective genres: ACH INT NIE VER\n",
    "\n",
    "Other genre: SER"
   ]
  },
  {
   "cell_type": "code",
   "execution_count": 1,
   "metadata": {
    "collapsed": true
   },
   "outputs": [],
   "source": [
    "python ../data-processing/collapse-labels.py -l 3 < link-articles-20190417-fasttext-test.txt > \\\n",
    "                                                    link-articles-20190417-fasttext-test-collapsed.txt\n",
    "python ../data-processing/collapse-labels.py -l 3 < link-articles-20190417-fasttext-train.txt > \\\n",
    "                                                    link-articles-20190417-fasttext-train-collapsed.txt"
   ]
  },
  {
   "cell_type": "code",
   "execution_count": 2,
   "metadata": {},
   "outputs": [
    {
     "name": "stdout",
     "output_type": "stream",
     "text": [
      "Read 4M words\n",
      "Number of words:  284034\n",
      "Number of labels: 3\n",
      "Progress: 100.0% words/sec/thread: 1146170 lr:  0.000000 loss:  0.140549 ETA:   0h 0m\n"
     ]
    }
   ],
   "source": [
    "fasttext supervised -input link-articles-20190417-fasttext-train-collapsed.txt -output model-collapsed -epoch 100 -dim 100"
   ]
  },
  {
   "cell_type": "code",
   "execution_count": 3,
   "metadata": {},
   "outputs": [
    {
     "name": "stdout",
     "output_type": "stream",
     "text": [
      "  915  70.49  70.49  70.49 \n",
      "  273  62.09  69.60  65.63 __label__COL\n",
      "  429  76.96  75.52  76.24 __label__NIE\n",
      "  213  69.68  61.50  65.34 __label__SER\n"
     ]
    }
   ],
   "source": [
    "fasttext predict model-collapsed.bin link-articles-20190417-fasttext-test-collapsed.txt |\\\n",
    "   paste -d' ' - link-articles-20190417-fasttext-test-collapsed.txt |\\\n",
    "   cut -d' ' -f1,2 | sed 's/\\(.*\\) \\(.*\\)/\\2 \\1/' | sed 's/^/dummy /'|\\\n",
    "   python ../../online-behaviour/machine-learning/eval.py"
   ]
  },
  {
   "cell_type": "code",
   "execution_count": 15,
   "metadata": {},
   "outputs": [
    {
     "name": "stdout",
     "output_type": "stream",
     "text": [
      "EPOCH=2 DIM=10: N\t915\tP@1\t0.561\tR@1\t0.561\t\n",
      "EPOCH=4 DIM=10: N\t915\tP@1\t0.662\tR@1\t0.662\t\n",
      "EPOCH=6 DIM=10: N\t915\tP@1\t0.707\tR@1\t0.707\t\n",
      "EPOCH=8 DIM=10: N\t915\tP@1\t0.726\tR@1\t0.726\t\n",
      "EPOCH=10 DIM=10: N\t915\tP@1\t0.727\tR@1\t0.727\t\n",
      "EPOCH=12 DIM=10: N\t915\tP@1\t0.731\tR@1\t0.731\t\n",
      "EPOCH=14 DIM=10: N\t915\tP@1\t0.728\tR@1\t0.728\t\n"
     ]
    }
   ],
   "source": [
    "DIM=10\n",
    "for EPOCH in 2 4 6 8 10 12 14\n",
    "do\n",
    "    fasttext supervised -input link-articles-20190417-fasttext-train-collapsed.txt -output model-collapsed \\\n",
    "        -epoch $EPOCH -dim $DIM  >/dev/null 2>/dev/null        \n",
    "    echo -e \"EPOCH=$EPOCH DIM=$DIM: \\c\"\n",
    "    fasttext test model-collapsed.bin link-articles-20190417-fasttext-test-collapsed.txt | (tr '\\n' '\\t'; echo)\n",
    "done"
   ]
  },
  {
   "cell_type": "code",
   "execution_count": 16,
   "metadata": {},
   "outputs": [
    {
     "name": "stdout",
     "output_type": "stream",
     "text": [
      "EPOCH=12 DIM=10: N\t915\tP@1\t0.729\tR@1\t0.729\t\n",
      "EPOCH=12 DIM=20: N\t915\tP@1\t0.728\tR@1\t0.728\t\n",
      "EPOCH=12 DIM=50: N\t915\tP@1\t0.723\tR@1\t0.723\t\n",
      "EPOCH=12 DIM=100: N\t915\tP@1\t0.726\tR@1\t0.726\t\n",
      "EPOCH=12 DIM=200: N\t915\tP@1\t0.728\tR@1\t0.728\t\n",
      "EPOCH=12 DIM=500: N\t915\tP@1\t0.727\tR@1\t0.727\t\n"
     ]
    }
   ],
   "source": [
    "EPOCH=12\n",
    "for DIM in 10 20 50 100 200 500\n",
    "do\n",
    "    fasttext supervised -input link-articles-20190417-fasttext-train-collapsed.txt -output model-collapsed \\\n",
    "      -epoch $EPOCH -dim $DIM >/dev/null 2>/dev/null\n",
    "    echo -e \"EPOCH=$EPOCH DIM=$DIM: \\c\"\n",
    "    fasttext test model-collapsed.bin link-articles-20190417-fasttext-test-collapsed.txt| (tr '\\n' '\\t'; echo)\n",
    "done"
   ]
  },
  {
   "cell_type": "markdown",
   "metadata": {
    "collapsed": true
   },
   "source": [
    "## Collapsing to binary labels after processing"
   ]
  },
  {
   "cell_type": "code",
   "execution_count": 4,
   "metadata": {},
   "outputs": [
    {
     "name": "stdout",
     "output_type": "stream",
     "text": [
      "Read 4M words\n",
      "Number of words:  284034\n",
      "Number of labels: 16\n",
      "Progress: 100.0% words/sec/thread: 1105272 lr:  0.000000 loss:  0.233836 ETA:   0h 0m\n"
     ]
    }
   ],
   "source": [
    "DIM=100\n",
    "EPOCH=200\n",
    "fasttext supervised -input link-articles-20190417-fasttext-train.txt -output model -epoch $EPOCH -dim $DIM"
   ]
  },
  {
   "cell_type": "code",
   "execution_count": 5,
   "metadata": {},
   "outputs": [
    {
     "name": "stdout",
     "output_type": "stream",
     "text": [
      "N\t915\n",
      "P@1\t0.639\n",
      "R@1\t0.639\n"
     ]
    }
   ],
   "source": [
    "fasttext test model.bin link-articles-20190417-fasttext-test.txt"
   ]
  },
  {
   "cell_type": "code",
   "execution_count": 52,
   "metadata": {},
   "outputs": [
    {
     "name": "stdout",
     "output_type": "stream",
     "text": [
      "  915  73.77  73.77  73.77 \n",
      "  273  66.67  68.13  67.39 __label__COL\n",
      "  429  77.41  82.28  79.77 __label__NIE\n",
      "  213  75.56  63.85  69.21 __label__SER\n"
     ]
    }
   ],
   "source": [
    "L=3\n",
    "fasttext predict model.bin link-articles-20190417-fasttext-test.txt |\\\n",
    "    python ../data-processing/collapse-labels.py -l $L |\\\n",
    "    paste -d' ' - link-articles-20190417-fasttext-test.txt |\\\n",
    "    cut -d' ' -f1,2 | sed 's/\\(.*\\) \\(.*\\)/\\2 \\1/' |\\\n",
    "    python ../data-processing/collapse-labels.py -l $L | sed 's/^/dummy /'|\\\n",
    "    python ../../online-behaviour/machine-learning/eval.py"
   ]
  },
  {
   "cell_type": "code",
   "execution_count": 7,
   "metadata": {},
   "outputs": [
    {
     "name": "stdout",
     "output_type": "stream",
     "text": [
      "    186 __label__COL __label__COL\n",
      "     60 __label__COL __label__NIE\n",
      "     27 __label__COL __label__SER\n",
      "     59 __label__NIE __label__COL\n",
      "    353 __label__NIE __label__NIE\n",
      "     17 __label__NIE __label__SER\n",
      "     34 __label__SER __label__COL\n",
      "     43 __label__SER __label__NIE\n",
      "    136 __label__SER __label__SER\n"
     ]
    }
   ],
   "source": [
    "L=3\n",
    "fasttext predict model.bin link-articles-20190417-fasttext-test.txt |\\\n",
    "    python ../data-processing/collapse-labels.py -l $L |\\\n",
    "    paste -d' ' - link-articles-20190417-fasttext-test.txt |\\\n",
    "    cut -d' ' -f1,2 | sed 's/\\(.*\\) \\(.*\\)/\\2 \\1/' |\\\n",
    "    python ../data-processing/collapse-labels.py -l $L |\\\n",
    "    sort | uniq -c"
   ]
  },
  {
   "cell_type": "code",
   "execution_count": null,
   "metadata": {
    "collapsed": true
   },
   "outputs": [],
   "source": []
  }
 ],
 "metadata": {
  "kernelspec": {
   "display_name": "Bash",
   "language": "bash",
   "name": "bash"
  },
  "language_info": {
   "codemirror_mode": "shell",
   "file_extension": ".sh",
   "mimetype": "text/x-sh",
   "name": "bash"
  }
 },
 "nbformat": 4,
 "nbformat_minor": 2
}
