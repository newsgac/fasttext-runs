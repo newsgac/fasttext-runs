{
 "cells": [
  {
   "cell_type": "markdown",
   "metadata": {},
   "source": [
    "# Re-estimating newspaper article genre counts\n",
    "\n",
    "We start with re-estimating counts produced by fasttext. First get the confusion matrix of fasttext on the TRAIN data. This code comes from the Jupyter notebook confusion.ipynb in the fasttext-runs directory:"
   ]
  },
  {
   "cell_type": "code",
   "execution_count": 8,
   "metadata": {},
   "outputs": [],
   "source": [
    "import seaborn as sn\n",
    "import pandas as pd\n",
    "import numpy as np\n",
    "import matplotlib.pyplot as plt\n",
    "import os\n",
    "import re\n",
    "\n",
    "DATADIR = \"/home/erikt/projects/newsgac/data-large/telegraaf.cwi\"\n",
    "TRAIN = \"TRAIN\"\n",
    "TEST = \"TRAIN.20191004:14:29:50.labels\"\n",
    "\n",
    "def shortenLabel(label):\n",
    "    return(re.sub(\"__label__\",\"\",label))\n",
    "\n",
    "def getLabels(inFileName):\n",
    "    labels = []\n",
    "    inFile = open(inFileName,\"r\")\n",
    "    for line in inFile:\n",
    "        label = re.sub(\"\\s.*$\",\"\",line)\n",
    "        labels.append(shortenLabel(label))\n",
    "    inFile.close()\n",
    "    return(labels)\n",
    "\n",
    "def makeConfusionMatrix(goldLabels,predictedLabels):\n",
    "    confusionMatrix = {}\n",
    "    for i in range(0,len(goldLabels)):\n",
    "        goldLabel = goldLabels[i]\n",
    "        predictedLabel = predictedLabels[i]\n",
    "        if not goldLabel in confusionMatrix: confusionMatrix[goldLabel] = {}\n",
    "        if not predictedLabel in confusionMatrix[goldLabel]: \n",
    "            confusionMatrix[goldLabel][predictedLabel] = 0\n",
    "        confusionMatrix[goldLabel][predictedLabel] += 1\n",
    "    for goldLabel in confusionMatrix:\n",
    "        for predictedLabel in confusionMatrix:\n",
    "            if not predictedLabel in confusionMatrix[goldLabel]: \n",
    "                confusionMatrix[goldLabel][predictedLabel] = 0\n",
    "    return(confusionMatrix)\n",
    "\n",
    "def confusionMatrixToArray(confusionMatrix):\n",
    "    labels = []\n",
    "    for goldLabel in confusionMatrix: labels.append(goldLabel)\n",
    "    labels = sorted(labels)\n",
    "    confusionArray = []\n",
    "    for goldLabel in labels:\n",
    "        confusionArray.append([])\n",
    "        for predictedLabel in labels:\n",
    "            confusionArray[-1].append(confusionMatrix[goldLabel][predictedLabel])\n",
    "    return(confusionArray,labels)\n",
    "\n",
    "def arrayToPercentages(arrayIn):\n",
    "    arrayOut = []\n",
    "    for i in range(0,len(arrayIn)):\n",
    "        arrayOut.append([])\n",
    "        totalRow = sum(arrayIn[i])\n",
    "        for j in range(0,len(arrayIn[i])): arrayOut[i].append(round(100*arrayIn[i][j]/totalRow))\n",
    "    return(arrayOut)\n",
    "\n",
    "def cm(array,columnNames):\n",
    "    arrayPerc = arrayToPercentages(array)\n",
    "    df_cm = pd.DataFrame(arrayPerc, index = columnNames, columns = columnNames)\n",
    "    plt.figure(figsize = (15,5))\n",
    "    sn.heatmap(df_cm, annot=True,cmap=\"Blues\")\n",
    "\n",
    "def makeTotalsEqual(list1,list2):\n",
    "    sumList1 = sum(list1)\n",
    "    sumList2 = sum(list2)\n",
    "    outList = []\n",
    "    for i in range(0,len(list1)): outList.append(list1[i]*sumList2/sumList1)\n",
    "    return(outList)\n",
    "\n",
    "def reEstimateBaseline(predictions,trainingPredictions,trainingGold):\n",
    "    reEstimatedPredictions = []\n",
    "    for i in range(0,len(predictions)):\n",
    "        reEstimatedPredictions.append(predictions[i]*trainingGold[i]/trainingPredictions[i])\n",
    "    return(makeTotalsEqual(reEstimatedPredictions,predictions))\n",
    "    \n",
    "def reEstimate(scoreList,confusionMatrix):\n",
    "    reEstimatedScoreList = []\n",
    "    columnTotals = computeColumnTotals(confusionMatrix) \n",
    "    for i in range(0,len(scoreList)):\n",
    "        total = 0.0\n",
    "        for column in range(0,len(scoreList)):\n",
    "            total += scoreList[column]*confusionMatrix[i][column]/columnTotals[column]\n",
    "        reEstimatedScoreList.append(total)\n",
    "    return(makeTotalsEqual(reEstimatedScoreList,scoreList))\n",
    "\n",
    "def computeRowTotals(array):\n",
    "    rowTotals = []\n",
    "    for i in range(0,len(array)): rowTotals.append(sum(array[i]))\n",
    "    return(rowTotals)\n",
    "\n",
    "def computeColumnTotals(array):\n",
    "    columnTotals = []\n",
    "    if len(array) > 0: \n",
    "        for i in range(0,len(array[0])): columnTotals.append(sum([x[i] for x in array]))\n",
    "    return(columnTotals)\n",
    "\n",
    "def readNewspaperTitles(newspaperListFile):\n",
    "    newspaperList = []\n",
    "    inFile = open(newspaperListFile,\"r\")\n",
    "    for line in inFile: newspaperList.append(line.strip())\n",
    "    inFile.close()\n",
    "    return(newspaperList)\n",
    "\n",
    "def printCounts(labels,goldCounts,predictedCounts,summary=True):\n",
    "    totalDeviance = 0.0\n",
    "    counts = 0\n",
    "    for i in range(0,len(labels)): \n",
    "        deviance = int(0.5+abs((goldCounts[i]-predictedCounts[i])))\n",
    "        if predictedCounts[i] < goldCounts[i]: direction = \"-\"\n",
    "        else: direction = \"+\"\n",
    "        if not summary:\n",
    "            print(\"{} {} ({} {}{}%)\".format(labels[i],int(0.5+predictedCounts[i]),\\\n",
    "                                            deviance,direction,int(0.5+100*deviance/goldCounts[i])))\n",
    "        counts += 1\n",
    "        totalDeviance += int(0.5+100*deviance/goldCounts[i])\n",
    "    print(\"Average deviance: {}%\\n\".format(int(0.5+totalDeviance/counts),\"%\"))"
   ]
  },
  {
   "cell_type": "code",
   "execution_count": 2,
   "metadata": {},
   "outputs": [],
   "source": [
    "os.chdir(DATADIR)\n",
    "goldLabels = getLabels(TRAIN)\n",
    "predictedLabels = getLabels(TEST)\n",
    "confusionMatrix = makeConfusionMatrix(goldLabels,predictedLabels)"
   ]
  },
  {
   "cell_type": "code",
   "execution_count": 3,
   "metadata": {},
   "outputs": [
    {
     "data": {
      "image/png": "[encoded data removed]",
      "text/plain": [
       "<Figure size 1080x360 with 2 Axes>"
      ]
     },
     "metadata": {
      "needs_background": "light"
     },
     "output_type": "display_data"
    }
   ],
   "source": [
    "confusionArray,labels = confusionMatrixToArray(confusionMatrix)\n",
    "cm(confusionArray,labels)"
   ]
  },
  {
   "cell_type": "markdown",
   "metadata": {},
   "source": [
    "## Sanity checks\n",
    "\n",
    "First: do we get the training data gold counts if we re-estimate the predicted training data counts? "
   ]
  },
  {
   "cell_type": "code",
   "execution_count": 4,
   "metadata": {},
   "outputs": [
    {
     "name": "stdout",
     "output_type": "stream",
     "text": [
      "labels:                 ['ACH', 'COL', 'INT', 'NIE', 'OPI', 'REC', 'REP', 'SER', 'VER']\n",
      "true distribution:      [1410, 223, 170, 4042, 247, 380, 137, 2127, 510]\n",
      "predicted distribution: [1543, 147, 116, 4316, 188, 407, 20, 2084, 425]\n",
      "re-estimation baseline: [1410.0, 223.0, 170.0, 4042.0, 247.0, 380.0, 137.0, 2127.0, 510.0]\n",
      "predicted re-estimated: [1410.0, 223.0, 170.0, 4042.0, 247.0, 380.0, 137.0, 2127.0, 510.0]\n"
     ]
    }
   ],
   "source": [
    "trainingGoldCounts = computeRowTotals(confusionArray)\n",
    "trainingPredictedCounts = computeColumnTotals(confusionArray)\n",
    "\n",
    "print(\"labels:                \",labels)\n",
    "print(\"true distribution:     \",trainingGoldCounts)\n",
    "print(\"predicted distribution:\",trainingPredictedCounts)\n",
    "print(\"re-estimation baseline:\",reEstimateBaseline(trainingPredictedCounts,trainingPredictedCounts,trainingGoldCounts))\n",
    "print(\"predicted re-estimated:\",reEstimate(trainingPredictedCounts,confusionArray))"
   ]
  },
  {
   "cell_type": "markdown",
   "metadata": {},
   "source": [
    "Second: check if re-estimation improves the counts for the three newspapers in the data set:"
   ]
  },
  {
   "cell_type": "code",
   "execution_count": 10,
   "metadata": {},
   "outputs": [
    {
     "name": "stdout",
     "output_type": "stream",
     "text": [
      "ALL predicted\n",
      "Average deviance: 24%\n",
      "\n",
      "05NRC_Handelsblad predicted\n",
      "Average deviance: 29%\n",
      "\n",
      "05NRC_Handelsblad baseline re-estimated\n",
      "Average deviance: 10%\n",
      "\n",
      "05NRC_Handelsblad re-estimated\n",
      "Average deviance: 12%\n",
      "\n",
      "06De_Telegraaf predicted\n",
      "Average deviance: 24%\n",
      "\n",
      "06De_Telegraaf baseline re-estimated\n",
      "Average deviance: 13%\n",
      "\n",
      "06De_Telegraaf re-estimated\n",
      "Average deviance: 10%\n",
      "\n",
      "08De_Volkskrant predicted\n",
      "Average deviance: 26%\n",
      "\n",
      "08De_Volkskrant baseline re-estimated\n",
      "Average deviance: 8%\n",
      "\n",
      "08De_Volkskrant re-estimated\n",
      "Average deviance: 11%\n",
      "\n"
     ]
    }
   ],
   "source": [
    "NEWSPAPERTITLEFILE=\"TRAIN.newspapers\"\n",
    "NEWSPAPERTITLES=[\"05NRC_Handelsblad\",\"06De_Telegraaf\",\"08De_Volkskrant\"]\n",
    "\n",
    "goldCounts = list(np.unique(goldLabels,return_counts=True)[1])\n",
    "predictedCounts = list(np.unique(predictedLabels,return_counts=True)[1])\n",
    "print(\"ALL\",\"predicted\")\n",
    "printCounts(labels,goldCounts,predictedCounts,summary=True)\n",
    "\n",
    "newspaperTitles = readNewspaperTitles(NEWSPAPERTITLEFILE)\n",
    "for newspaperTitle in NEWSPAPERTITLES:\n",
    "    goldLabelsN = [goldLabels[i] for i in range(0,len(goldLabels)) \n",
    "                   if newspaperTitles[i] == newspaperTitle]\n",
    "    predictedLabelsN = [predictedLabels[i] for i in range(0,len(predictedLabels)) \\\n",
    "                                           if newspaperTitles[i] == newspaperTitle]\n",
    "    goldCountsN = list(np.unique(goldLabelsN,return_counts=True)[1])\n",
    "    predictedCountsN = list(np.unique(predictedLabelsN,return_counts=True)[1])\n",
    "    print(newspaperTitle,\"predicted\")\n",
    "    printCounts(labels,goldCountsN,predictedCountsN,summary=True)\n",
    "    print(newspaperTitle,\"baseline re-estimated\")\n",
    "    printCounts(labels,goldCountsN,\n",
    "                reEstimateBaseline(predictedCountsN,trainingPredictedCounts,trainingGoldCounts),summary=True)\n",
    "    print(newspaperTitle,\"re-estimated\")\n",
    "    printCounts(labels,goldCountsN,reEstimate(predictedCountsN,confusionArray),summary=True)"
   ]
  },
  {
   "cell_type": "code",
   "execution_count": null,
   "metadata": {},
   "outputs": [],
   "source": []
  }
 ],
 "metadata": {
  "kernelspec": {
   "display_name": "Python 3",
   "language": "python",
   "name": "python3"
  },
  "language_info": {
   "codemirror_mode": {
    "name": "ipython",
    "version": 3
   },
   "file_extension": ".py",
   "mimetype": "text/x-python",
   "name": "python",
   "nbconvert_exporter": "python",
   "pygments_lexer": "ipython3",
   "version": "3.6.7"
  }
 },
 "nbformat": 4,
 "nbformat_minor": 4
}
